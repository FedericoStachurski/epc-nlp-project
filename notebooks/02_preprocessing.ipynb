{
 "cells": [
  {
   "cell_type": "code",
   "execution_count": 8,
   "id": "d18185cb",
   "metadata": {},
   "outputs": [
    {
     "name": "stderr",
     "output_type": "stream",
     "text": [
      "/tmp/ipykernel_13083/3889960158.py:8: DtypeWarning: Columns (0,1,9,10,11,12,13,15,17,19,21,53,54,55,56,57,58,59,60,63,64,65,66,67,68,70,72,73,74,75,76,78,79,80,82,84,87,90,92,97,100) have mixed types. Specify dtype option on import or set low_memory=False.\n",
      "  df = pd.read_csv(\"../data/raw/D_EPC_data_2025Q2/2025Q2.csv\", skiprows=0)\n"
     ]
    },
    {
     "name": "stdout",
     "output_type": "stream",
     "text": [
      "                              measure             cost  saving rating  \\\n",
      "0                                None             None     NaN   None   \n",
      "1  Floor insulation (suspended floor)    £800 - £1,200    69.0      C   \n",
      "2                 Solar water heating  £4,000 - £6,000    45.0      C   \n",
      "3  Solar photovoltaic panels, 2.5 kWp  £3,500 - £5,500   425.0      B   \n",
      "4           Replacement glazing units  £1,000 - £1,400    56.0      C   \n",
      "\n",
      "                                                 raw  \n",
      "0                                       Improvements  \n",
      "1  Description: Floor insulation (suspended floor...  \n",
      "2  Description: Solar water heating; Indicative C...  \n",
      "3  Description: Solar photovoltaic panels, 2.5 kW...  \n",
      "4  Description: Replacement glazing units; Indica...  \n",
      "TF-IDF shape: (149287, 84)\n"
     ]
    }
   ],
   "source": [
    "import pandas as pd\n",
    "import sys, os\n",
    "sys.path.insert(0, os.path.abspath(\"..\")) \n",
    "from src.preprocess import split_improvements, parse_improvement, clean_text, vectorise_text\n",
    "\n",
    "\n",
    "# Load a sample of EPC data\n",
    "df = pd.read_csv(\"../data/raw/D_EPC_data_2025Q2/2025Q2.csv\", skiprows=0)\n",
    "\n",
    "# Extract and parse improvements\n",
    "records = []\n",
    "for row in df[\"IMPROVEMENTS\"].dropna():\n",
    "    for imp in split_improvements(row):\n",
    "        records.append(parse_improvement(imp))\n",
    "\n",
    "df_improvements = pd.DataFrame(records)\n",
    "print(df_improvements.head())\n",
    "\n",
    "# Clean text\n",
    "df_improvements[\"clean_measure\"] = df_improvements[\"measure\"].apply(clean_text)\n",
    "\n",
    "# Vectorise\n",
    "X, vectoriser = vectorise_text(df_improvements[\"clean_measure\"])\n",
    "print(\"TF-IDF shape:\", X.shape)\n"
   ]
  }
 ],
 "metadata": {
  "kernelspec": {
   "display_name": ".npl_env",
   "language": "python",
   "name": "python3"
  },
  "language_info": {
   "codemirror_mode": {
    "name": "ipython",
    "version": 3
   },
   "file_extension": ".py",
   "mimetype": "text/x-python",
   "name": "python",
   "nbconvert_exporter": "python",
   "pygments_lexer": "ipython3",
   "version": "3.12.3"
  }
 },
 "nbformat": 4,
 "nbformat_minor": 5
}
