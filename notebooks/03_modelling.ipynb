{
 "cells": [
  {
   "cell_type": "code",
   "execution_count": 6,
   "id": "086fec6b",
   "metadata": {},
   "outputs": [],
   "source": [
    "import sys, os\n",
    "sys.path.insert(0, os.path.abspath(\"..\"))\n",
    "\n",
    "import pandas as pd\n",
    "from sklearn.model_selection import train_test_split\n",
    "from sklearn.metrics import classification_report, confusion_matrix\n",
    "from sklearn.pipeline import Pipeline\n",
    "from sklearn.linear_model import LogisticRegression\n",
    "\n",
    "from src.preprocess import split_improvements, parse_improvement, clean_text\n",
    "from src.labels import labels_measure\n"
   ]
  },
  {
   "cell_type": "code",
   "execution_count": 7,
   "id": "b4f470f6",
   "metadata": {},
   "outputs": [
    {
     "data": {
      "text/html": [
       "<div>\n",
       "<style scoped>\n",
       "    .dataframe tbody tr th:only-of-type {\n",
       "        vertical-align: middle;\n",
       "    }\n",
       "\n",
       "    .dataframe tbody tr th {\n",
       "        vertical-align: top;\n",
       "    }\n",
       "\n",
       "    .dataframe thead th {\n",
       "        text-align: right;\n",
       "    }\n",
       "</style>\n",
       "<table border=\"1\" class=\"dataframe\">\n",
       "  <thead>\n",
       "    <tr style=\"text-align: right;\">\n",
       "      <th></th>\n",
       "      <th>measure</th>\n",
       "      <th>cost</th>\n",
       "      <th>saving</th>\n",
       "      <th>rating</th>\n",
       "      <th>raw</th>\n",
       "      <th>label</th>\n",
       "      <th>clean</th>\n",
       "    </tr>\n",
       "  </thead>\n",
       "  <tbody>\n",
       "    <tr>\n",
       "      <th>0</th>\n",
       "      <td>Floor insulation (suspended floor)</td>\n",
       "      <td>£800 - £1,200</td>\n",
       "      <td>69.0</td>\n",
       "      <td>C</td>\n",
       "      <td>Description: Floor insulation (suspended floor...</td>\n",
       "      <td>{insulation}</td>\n",
       "      <td>floor insulation suspended floor</td>\n",
       "    </tr>\n",
       "    <tr>\n",
       "      <th>1</th>\n",
       "      <td>Solar water heating</td>\n",
       "      <td>£4,000 - £6,000</td>\n",
       "      <td>45.0</td>\n",
       "      <td>C</td>\n",
       "      <td>Description: Solar water heating; Indicative C...</td>\n",
       "      <td>{renewables}</td>\n",
       "      <td>solar water heating</td>\n",
       "    </tr>\n",
       "    <tr>\n",
       "      <th>2</th>\n",
       "      <td>Solar photovoltaic panels, 2.5 kWp</td>\n",
       "      <td>£3,500 - £5,500</td>\n",
       "      <td>425.0</td>\n",
       "      <td>B</td>\n",
       "      <td>Description: Solar photovoltaic panels, 2.5 kW...</td>\n",
       "      <td>{renewables}</td>\n",
       "      <td>solar photovoltaic panels kwp</td>\n",
       "    </tr>\n",
       "    <tr>\n",
       "      <th>3</th>\n",
       "      <td>Replacement glazing units</td>\n",
       "      <td>£1,000 - £1,400</td>\n",
       "      <td>56.0</td>\n",
       "      <td>C</td>\n",
       "      <td>Description: Replacement glazing units; Indica...</td>\n",
       "      <td>{glazing}</td>\n",
       "      <td>replacement glazing units</td>\n",
       "    </tr>\n",
       "    <tr>\n",
       "      <th>4</th>\n",
       "      <td>Cavity wall insulation</td>\n",
       "      <td>£500 - £1,500</td>\n",
       "      <td>88.0</td>\n",
       "      <td>C</td>\n",
       "      <td>Description: Cavity wall insulation; Indicativ...</td>\n",
       "      <td>{insulation}</td>\n",
       "      <td>cavity wall insulation</td>\n",
       "    </tr>\n",
       "  </tbody>\n",
       "</table>\n",
       "</div>"
      ],
      "text/plain": [
       "                              measure             cost  saving rating  \\\n",
       "0  Floor insulation (suspended floor)    £800 - £1,200    69.0      C   \n",
       "1                 Solar water heating  £4,000 - £6,000    45.0      C   \n",
       "2  Solar photovoltaic panels, 2.5 kWp  £3,500 - £5,500   425.0      B   \n",
       "3           Replacement glazing units  £1,000 - £1,400    56.0      C   \n",
       "4              Cavity wall insulation    £500 - £1,500    88.0      C   \n",
       "\n",
       "                                                 raw         label  \\\n",
       "0  Description: Floor insulation (suspended floor...  {insulation}   \n",
       "1  Description: Solar water heating; Indicative C...  {renewables}   \n",
       "2  Description: Solar photovoltaic panels, 2.5 kW...  {renewables}   \n",
       "3  Description: Replacement glazing units; Indica...     {glazing}   \n",
       "4  Description: Cavity wall insulation; Indicativ...  {insulation}   \n",
       "\n",
       "                              clean  \n",
       "0  floor insulation suspended floor  \n",
       "1               solar water heating  \n",
       "2     solar photovoltaic panels kwp  \n",
       "3         replacement glazing units  \n",
       "4            cavity wall insulation  "
      ]
     },
     "execution_count": 7,
     "metadata": {},
     "output_type": "execute_result"
    }
   ],
   "source": [
    "# adjust filename to any EPC CSV you’ve got\n",
    "df = pd.read_csv(\"../data/raw/D_EPC_data_2025Q2/2025Q2.csv\", nrows=200_000, low_memory=False)\n",
    "\n",
    "# explode 'IMPROVEMENTS' into rows\n",
    "records = []\n",
    "for raw in df[\"IMPROVEMENTS\"].dropna():\n",
    "    for seg in split_improvements(raw):\n",
    "        rec = parse_improvement(seg)\n",
    "        if rec[\"measure\"]:\n",
    "            rec[\"label\"] = labels_measure(rec[\"measure\"])\n",
    "            records.append(rec)\n",
    "\n",
    "imp = pd.DataFrame(records)\n",
    "imp = imp.dropna(subset=[\"label\"]).reset_index(drop=True)\n",
    "imp[\"clean\"] = imp[\"measure\"].map(clean_text)\n",
    "imp.head()\n"
   ]
  },
  {
   "cell_type": "code",
   "execution_count": 4,
   "id": "c30608df",
   "metadata": {},
   "outputs": [
    {
     "data": {
      "text/plain": [
       "'Description: Floor insulation (suspended floor); Indicative Cost: £800 - £1,200; Typical Saving: 69; Energy Rating after improvement: C 75; Environmental Rating after improvement: C 74; Green Deal Eligible: Y'"
      ]
     },
     "execution_count": 4,
     "metadata": {},
     "output_type": "execute_result"
    }
   ],
   "source": [
    "imp['raw'][0]"
   ]
  },
  {
   "cell_type": "code",
   "execution_count": 3,
   "id": "124bbc18",
   "metadata": {},
   "outputs": [
    {
     "data": {
      "text/plain": [
       "label\n",
       "{insulation}               61001\n",
       "{renewables}               54587\n",
       "{heating}                  10209\n",
       "{lighting}                  9433\n",
       "{glazing}                   5690\n",
       "{hot_water, heating}        3392\n",
       "{}                          2286\n",
       "{hot_water}                 1302\n",
       "{hot_water, insulation}      938\n",
       "Name: count, dtype: int64"
      ]
     },
     "execution_count": 3,
     "metadata": {},
     "output_type": "execute_result"
    }
   ],
   "source": [
    "imp[\"label\"].value_counts()"
   ]
  },
  {
   "cell_type": "code",
   "execution_count": 16,
   "id": "27851b99",
   "metadata": {},
   "outputs": [
    {
     "name": "stdout",
     "output_type": "stream",
     "text": [
      "Classes: ['glazing', 'heating', 'hot_water', 'insulation', 'lighting', 'renewables']\n",
      "              precision    recall  f1-score   support\n",
      "\n",
      "     glazing       1.00      1.00      1.00      1124\n",
      "     heating       1.00      1.00      1.00      2686\n",
      "   hot_water       1.00      1.00      1.00      1137\n",
      "  insulation       1.00      1.00      1.00     12486\n",
      "    lighting       1.00      1.00      1.00      1844\n",
      "  renewables       1.00      1.00      1.00     10898\n",
      "\n",
      "   micro avg       1.00      1.00      1.00     30175\n",
      "   macro avg       1.00      1.00      1.00     30175\n",
      "weighted avg       1.00      1.00      1.00     30175\n",
      " samples avg       1.00      1.00      1.00     30175\n",
      "\n"
     ]
    },
    {
     "data": {
      "image/png": "[encoded data removed]",
      "text/plain": [
       "<Figure size 800x600 with 2 Axes>"
      ]
     },
     "metadata": {},
     "output_type": "display_data"
    }
   ],
   "source": [
    "from sklearn.preprocessing import MultiLabelBinarizer\n",
    "from sklearn.model_selection import train_test_split\n",
    "from sklearn.pipeline import Pipeline\n",
    "from sklearn.feature_extraction.text import TfidfVectorizer\n",
    "from sklearn.multiclass import OneVsRestClassifier\n",
    "from sklearn.linear_model import LogisticRegression\n",
    "from sklearn.metrics import classification_report\n",
    "import numpy as np\n",
    "import matplotlib.pyplot as plt\n",
    "import seaborn as sns\n",
    "\n",
    "# Binarise multi-label targets\n",
    "mask = imp[\"label\"].map(len) > 0\n",
    "imp = imp[mask].copy()\n",
    "\n",
    "\n",
    "mlb = MultiLabelBinarizer()\n",
    "Y = mlb.fit_transform(imp[\"label\"])   # imp[\"labels\"] is a set per row\n",
    "X = imp[\"clean\"]\n",
    "\n",
    "# Simple split (no stratify)\n",
    "X_train, X_test, Y_train, Y_test = train_test_split(\n",
    "    X, Y, test_size=0.2, random_state=42\n",
    ")\n",
    "\n",
    "multi_clf = Pipeline([\n",
    "    (\"tfidf\", TfidfVectorizer(max_features=8000, ngram_range=(1,2))),\n",
    "    (\"ovr\", OneVsRestClassifier(LogisticRegression(max_iter=400, class_weight=\"balanced\")))\n",
    "])\n",
    "\n",
    "multi_clf.fit(X_train, Y_train)\n",
    "Y_pred = multi_clf.predict(X_test)\n",
    "\n",
    "print(\"Classes:\", list(mlb.classes_))\n",
    "print(classification_report(Y_test, Y_pred, target_names=mlb.classes_))\n",
    "\n",
    "\n",
    "\n",
    "# build co-occurrence counts: true label vs predicted label\n",
    "classes = mlb.classes_\n",
    "cooc = np.zeros((len(classes), len(classes)), dtype=int)\n",
    "\n",
    "for yt, yp in zip(Y_test, Y_pred):\n",
    "    true_labels = np.where(yt==1)[0]\n",
    "    pred_labels = np.where(yp==1)[0]\n",
    "    for t in true_labels:\n",
    "        for p in pred_labels:\n",
    "            cooc[t, p] += 1\n",
    "\n",
    "plt.figure(figsize=(8,6))\n",
    "sns.heatmap(cooc, annot=True, fmt=\"d\", cmap=\"Blues\",\n",
    "            xticklabels=classes, yticklabels=classes)\n",
    "plt.xlabel(\"Predicted\")\n",
    "plt.ylabel(\"True\")\n",
    "plt.title(\"Multi-label co-occurrence confusion\")\n",
    "plt.show()\n",
    "\n"
   ]
  },
  {
   "cell_type": "code",
   "execution_count": null,
   "id": "f230cdda",
   "metadata": {},
   "outputs": [
    {
     "name": "stdout",
     "output_type": "stream",
     "text": [
      "              precision    recall  f1-score   support\n",
      "\n",
      "           0       1.00      1.00      1.00      1107\n",
      "           1       1.00      1.00      1.00      2625\n",
      "           2       1.00      1.00      1.00      1117\n",
      "           3       1.00      1.00      1.00     12552\n",
      "           4       1.00      1.00      1.00      1874\n",
      "           5       1.00      1.00      1.00     10908\n",
      "\n",
      "   micro avg       1.00      1.00      1.00     30183\n",
      "   macro avg       1.00      1.00      1.00     30183\n",
      "weighted avg       1.00      1.00      1.00     30183\n",
      " samples avg       0.99      0.99      0.99     30183\n",
      "\n"
     ]
    },
    {
     "name": "stderr",
     "output_type": "stream",
     "text": [
      "/home/federicostachurski/epc-nlp-project/.npl_env/lib/python3.12/site-packages/sklearn/metrics/_classification.py:1731: UndefinedMetricWarning: Precision is ill-defined and being set to 0.0 in samples with no predicted labels. Use `zero_division` parameter to control this behavior.\n",
      "  _warn_prf(average, modifier, f\"{metric.capitalize()} is\", result.shape[0])\n",
      "/home/federicostachurski/epc-nlp-project/.npl_env/lib/python3.12/site-packages/sklearn/metrics/_classification.py:1731: UndefinedMetricWarning: Recall is ill-defined and being set to 0.0 in samples with no true labels. Use `zero_division` parameter to control this behavior.\n",
      "  _warn_prf(average, modifier, f\"{metric.capitalize()} is\", result.shape[0])\n",
      "/home/federicostachurski/epc-nlp-project/.npl_env/lib/python3.12/site-packages/sklearn/metrics/_classification.py:1731: UndefinedMetricWarning: F-score is ill-defined and being set to 0.0 in samples with no true nor predicted labels. Use `zero_division` parameter to control this behavior.\n",
      "  _warn_prf(average, modifier, f\"{metric.capitalize()} is\", result.shape[0])\n"
     ]
    },
    {
     "ename": "ValueError",
     "evalue": "multilabel-indicator is not supported",
     "output_type": "error",
     "traceback": [
      "\u001b[31m---------------------------------------------------------------------------\u001b[39m",
      "\u001b[31mValueError\u001b[39m                                Traceback (most recent call last)",
      "\u001b[36mCell\u001b[39m\u001b[36m \u001b[39m\u001b[32mIn[8]\u001b[39m\u001b[32m, line 31\u001b[39m\n\u001b[32m     28\u001b[39m Y_pred = clf.predict(X_test)\n\u001b[32m     29\u001b[39m \u001b[38;5;28mprint\u001b[39m(classification_report(Y_test, Y_pred))\n\u001b[32m---> \u001b[39m\u001b[32m31\u001b[39m ConfusionMatrixDisplay(\u001b[43mconfusion_matrix\u001b[49m\u001b[43m(\u001b[49m\u001b[43mY_test\u001b[49m\u001b[43m,\u001b[49m\u001b[43m \u001b[49m\u001b[43mY_pred\u001b[49m\u001b[43m)\u001b[49m, display_labels=clf.classes_).plot(cmap=\u001b[33m\"\u001b[39m\u001b[33mBlues\u001b[39m\u001b[33m\"\u001b[39m)\n",
      "\u001b[36mFile \u001b[39m\u001b[32m~/epc-nlp-project/.npl_env/lib/python3.12/site-packages/sklearn/utils/_param_validation.py:218\u001b[39m, in \u001b[36mvalidate_params.<locals>.decorator.<locals>.wrapper\u001b[39m\u001b[34m(*args, **kwargs)\u001b[39m\n\u001b[32m    212\u001b[39m \u001b[38;5;28;01mtry\u001b[39;00m:\n\u001b[32m    213\u001b[39m     \u001b[38;5;28;01mwith\u001b[39;00m config_context(\n\u001b[32m    214\u001b[39m         skip_parameter_validation=(\n\u001b[32m    215\u001b[39m             prefer_skip_nested_validation \u001b[38;5;129;01mor\u001b[39;00m global_skip_validation\n\u001b[32m    216\u001b[39m         )\n\u001b[32m    217\u001b[39m     ):\n\u001b[32m--> \u001b[39m\u001b[32m218\u001b[39m         \u001b[38;5;28;01mreturn\u001b[39;00m \u001b[43mfunc\u001b[49m\u001b[43m(\u001b[49m\u001b[43m*\u001b[49m\u001b[43margs\u001b[49m\u001b[43m,\u001b[49m\u001b[43m \u001b[49m\u001b[43m*\u001b[49m\u001b[43m*\u001b[49m\u001b[43mkwargs\u001b[49m\u001b[43m)\u001b[49m\n\u001b[32m    219\u001b[39m \u001b[38;5;28;01mexcept\u001b[39;00m InvalidParameterError \u001b[38;5;28;01mas\u001b[39;00m e:\n\u001b[32m    220\u001b[39m     \u001b[38;5;66;03m# When the function is just a wrapper around an estimator, we allow\u001b[39;00m\n\u001b[32m    221\u001b[39m     \u001b[38;5;66;03m# the function to delegate validation to the estimator, but we replace\u001b[39;00m\n\u001b[32m    222\u001b[39m     \u001b[38;5;66;03m# the name of the estimator by the name of the function in the error\u001b[39;00m\n\u001b[32m    223\u001b[39m     \u001b[38;5;66;03m# message to avoid confusion.\u001b[39;00m\n\u001b[32m    224\u001b[39m     msg = re.sub(\n\u001b[32m    225\u001b[39m         \u001b[33mr\u001b[39m\u001b[33m\"\u001b[39m\u001b[33mparameter of \u001b[39m\u001b[33m\\\u001b[39m\u001b[33mw+ must be\u001b[39m\u001b[33m\"\u001b[39m,\n\u001b[32m    226\u001b[39m         \u001b[33mf\u001b[39m\u001b[33m\"\u001b[39m\u001b[33mparameter of \u001b[39m\u001b[38;5;132;01m{\u001b[39;00mfunc.\u001b[34m__qualname__\u001b[39m\u001b[38;5;132;01m}\u001b[39;00m\u001b[33m must be\u001b[39m\u001b[33m\"\u001b[39m,\n\u001b[32m    227\u001b[39m         \u001b[38;5;28mstr\u001b[39m(e),\n\u001b[32m    228\u001b[39m     )\n",
      "\u001b[36mFile \u001b[39m\u001b[32m~/epc-nlp-project/.npl_env/lib/python3.12/site-packages/sklearn/metrics/_classification.py:469\u001b[39m, in \u001b[36mconfusion_matrix\u001b[39m\u001b[34m(y_true, y_pred, labels, sample_weight, normalize)\u001b[39m\n\u001b[32m    467\u001b[39m y_type, y_true, y_pred = _check_targets(y_true, y_pred)\n\u001b[32m    468\u001b[39m \u001b[38;5;28;01mif\u001b[39;00m y_type \u001b[38;5;129;01mnot\u001b[39;00m \u001b[38;5;129;01min\u001b[39;00m (\u001b[33m\"\u001b[39m\u001b[33mbinary\u001b[39m\u001b[33m\"\u001b[39m, \u001b[33m\"\u001b[39m\u001b[33mmulticlass\u001b[39m\u001b[33m\"\u001b[39m):\n\u001b[32m--> \u001b[39m\u001b[32m469\u001b[39m     \u001b[38;5;28;01mraise\u001b[39;00m \u001b[38;5;167;01mValueError\u001b[39;00m(\u001b[33m\"\u001b[39m\u001b[38;5;132;01m%s\u001b[39;00m\u001b[33m is not supported\u001b[39m\u001b[33m\"\u001b[39m % y_type)\n\u001b[32m    471\u001b[39m \u001b[38;5;28;01mif\u001b[39;00m labels \u001b[38;5;129;01mis\u001b[39;00m \u001b[38;5;28;01mNone\u001b[39;00m:\n\u001b[32m    472\u001b[39m     labels = unique_labels(y_true, y_pred)\n",
      "\u001b[31mValueError\u001b[39m: multilabel-indicator is not supported"
     ]
    }
   ],
   "source": [
    "from sklearn.preprocessing import MultiLabelBinarizer\n",
    "from sklearn.model_selection import train_test_split\n",
    "from sklearn.pipeline import Pipeline\n",
    "from sklearn.feature_extraction.text import TfidfVectorizer\n",
    "from sklearn.multiclass import OneVsRestClassifier\n",
    "from sklearn.linear_model import LogisticRegression\n",
    "from sklearn.metrics import classification_report\n",
    "\n",
    "\n",
    "# Binarise multi-label targets\n",
    "mlb = MultiLabelBinarizer()\n",
    "Y = mlb.fit_transform(imp[\"label\"])   # imp[\"labels\"] is a set per row\n",
    "X = imp[\"clean\"]\n",
    "\n",
    "# Simple split (no stratify)\n",
    "X_train, X_test, Y_train, Y_test = train_test_split(\n",
    "    X, Y, test_size=0.2, random_state=42\n",
    ")\n",
    "\n",
    "clf = Pipeline([\n",
    "    (\"tfidf\", TfidfVectorizer(max_features=8000, ngram_range=(1,2))),\n",
    "    (\"ovr\", OneVsRestClassifier(LogisticRegression(max_iter=400, class_weight=\"balanced\")))\n",
    "])\n",
    "\n",
    "\n",
    "clf.fit(X_train, Y_train)\n",
    "\n",
    "Y_pred = clf.predict(X_test)\n",
    "print(classification_report(Y_test, Y_pred))\n",
    "\n",
    "ConfusionMatrixDisplay(confusion_matrix(Y_test, Y_pred), display_labels=clf.classes_).plot(cmap=\"Blues\")\n"
   ]
  },
  {
   "cell_type": "code",
   "execution_count": 6,
   "id": "78eb6d76",
   "metadata": {},
   "outputs": [
    {
     "data": {
      "text/plain": [
       "array(['heating'], dtype=object)"
      ]
     },
     "execution_count": 6,
     "metadata": {},
     "output_type": "execute_result"
    }
   ],
   "source": [
    "clf.predict([\"replace boiler with condensing boiler and add heating controls\"])"
   ]
  }
 ],
 "metadata": {
  "kernelspec": {
   "display_name": ".npl_env",
   "language": "python",
   "name": "python3"
  },
  "language_info": {
   "codemirror_mode": {
    "name": "ipython",
    "version": 3
   },
   "file_extension": ".py",
   "mimetype": "text/x-python",
   "name": "python",
   "nbconvert_exporter": "python",
   "pygments_lexer": "ipython3",
   "version": "3.12.3"
  }
 },
 "nbformat": 4,
 "nbformat_minor": 5
}
