{
 "cells": [
  {
   "cell_type": "code",
   "execution_count": 1,
   "id": "086fec6b",
   "metadata": {},
   "outputs": [],
   "source": [
    "import sys, os\n",
    "sys.path.insert(0, os.path.abspath(\"..\"))\n",
    "\n",
    "import pandas as pd\n",
    "from sklearn.model_selection import train_test_split\n",
    "from sklearn.metrics import classification_report, confusion_matrix\n",
    "from sklearn.pipeline import Pipeline\n",
    "from sklearn.linear_model import LogisticRegression\n",
    "\n",
    "from src.preprocess import split_improvements, parse_improvement, clean_text\n",
    "from src.labels import label_measure\n"
   ]
  },
  {
   "cell_type": "code",
   "execution_count": 10,
   "id": "b4f470f6",
   "metadata": {},
   "outputs": [
    {
     "data": {
      "text/html": [
       "<div>\n",
       "<style scoped>\n",
       "    .dataframe tbody tr th:only-of-type {\n",
       "        vertical-align: middle;\n",
       "    }\n",
       "\n",
       "    .dataframe tbody tr th {\n",
       "        vertical-align: top;\n",
       "    }\n",
       "\n",
       "    .dataframe thead th {\n",
       "        text-align: right;\n",
       "    }\n",
       "</style>\n",
       "<table border=\"1\" class=\"dataframe\">\n",
       "  <thead>\n",
       "    <tr style=\"text-align: right;\">\n",
       "      <th></th>\n",
       "      <th>measure</th>\n",
       "      <th>cost</th>\n",
       "      <th>saving</th>\n",
       "      <th>rating</th>\n",
       "      <th>raw</th>\n",
       "      <th>label</th>\n",
       "      <th>clean</th>\n",
       "    </tr>\n",
       "  </thead>\n",
       "  <tbody>\n",
       "    <tr>\n",
       "      <th>0</th>\n",
       "      <td>Floor insulation (suspended floor)</td>\n",
       "      <td>£800 - £1,200</td>\n",
       "      <td>69.0</td>\n",
       "      <td>C</td>\n",
       "      <td>Description: Floor insulation (suspended floor...</td>\n",
       "      <td>insulation</td>\n",
       "      <td>floor insulation suspended floor</td>\n",
       "    </tr>\n",
       "    <tr>\n",
       "      <th>1</th>\n",
       "      <td>Solar water heating</td>\n",
       "      <td>£4,000 - £6,000</td>\n",
       "      <td>45.0</td>\n",
       "      <td>C</td>\n",
       "      <td>Description: Solar water heating; Indicative C...</td>\n",
       "      <td>renewables</td>\n",
       "      <td>solar water heating</td>\n",
       "    </tr>\n",
       "    <tr>\n",
       "      <th>2</th>\n",
       "      <td>Solar photovoltaic panels, 2.5 kWp</td>\n",
       "      <td>£3,500 - £5,500</td>\n",
       "      <td>425.0</td>\n",
       "      <td>B</td>\n",
       "      <td>Description: Solar photovoltaic panels, 2.5 kW...</td>\n",
       "      <td>renewables</td>\n",
       "      <td>solar photovoltaic panels kwp</td>\n",
       "    </tr>\n",
       "    <tr>\n",
       "      <th>3</th>\n",
       "      <td>Replacement glazing units</td>\n",
       "      <td>£1,000 - £1,400</td>\n",
       "      <td>56.0</td>\n",
       "      <td>C</td>\n",
       "      <td>Description: Replacement glazing units; Indica...</td>\n",
       "      <td>glazing</td>\n",
       "      <td>replacement glazing units</td>\n",
       "    </tr>\n",
       "    <tr>\n",
       "      <th>4</th>\n",
       "      <td>Cavity wall insulation</td>\n",
       "      <td>£500 - £1,500</td>\n",
       "      <td>88.0</td>\n",
       "      <td>C</td>\n",
       "      <td>Description: Cavity wall insulation; Indicativ...</td>\n",
       "      <td>insulation</td>\n",
       "      <td>cavity wall insulation</td>\n",
       "    </tr>\n",
       "  </tbody>\n",
       "</table>\n",
       "</div>"
      ],
      "text/plain": [
       "                              measure             cost  saving rating  \\\n",
       "0  Floor insulation (suspended floor)    £800 - £1,200    69.0      C   \n",
       "1                 Solar water heating  £4,000 - £6,000    45.0      C   \n",
       "2  Solar photovoltaic panels, 2.5 kWp  £3,500 - £5,500   425.0      B   \n",
       "3           Replacement glazing units  £1,000 - £1,400    56.0      C   \n",
       "4              Cavity wall insulation    £500 - £1,500    88.0      C   \n",
       "\n",
       "                                                 raw       label  \\\n",
       "0  Description: Floor insulation (suspended floor...  insulation   \n",
       "1  Description: Solar water heating; Indicative C...  renewables   \n",
       "2  Description: Solar photovoltaic panels, 2.5 kW...  renewables   \n",
       "3  Description: Replacement glazing units; Indica...     glazing   \n",
       "4  Description: Cavity wall insulation; Indicativ...  insulation   \n",
       "\n",
       "                              clean  \n",
       "0  floor insulation suspended floor  \n",
       "1               solar water heating  \n",
       "2     solar photovoltaic panels kwp  \n",
       "3         replacement glazing units  \n",
       "4            cavity wall insulation  "
      ]
     },
     "execution_count": 10,
     "metadata": {},
     "output_type": "execute_result"
    }
   ],
   "source": [
    "# adjust filename to any EPC CSV you’ve got\n",
    "df = pd.read_csv(\"../data/raw/D_EPC_data_2025Q2/2025Q2.csv\", nrows=200_000, low_memory=False)\n",
    "\n",
    "# explode 'IMPROVEMENTS' into rows\n",
    "records = []\n",
    "for raw in df[\"IMPROVEMENTS\"].dropna():\n",
    "    for seg in split_improvements(raw):\n",
    "        rec = parse_improvement(seg)\n",
    "        if rec[\"measure\"]:\n",
    "            rec[\"label\"] = label_measure(rec[\"measure\"])\n",
    "            records.append(rec)\n",
    "\n",
    "imp = pd.DataFrame(records)\n",
    "imp = imp.dropna(subset=[\"label\"]).reset_index(drop=True)\n",
    "imp[\"clean\"] = imp[\"measure\"].map(clean_text)\n",
    "imp.head()\n"
   ]
  },
  {
   "cell_type": "code",
   "execution_count": 11,
   "id": "c30608df",
   "metadata": {},
   "outputs": [
    {
     "data": {
      "text/plain": [
       "'Description: Floor insulation (suspended floor); Indicative Cost: £800 - £1,200; Typical Saving: 69; Energy Rating after improvement: C 75; Environmental Rating after improvement: C 74; Green Deal Eligible: Y'"
      ]
     },
     "execution_count": 11,
     "metadata": {},
     "output_type": "execute_result"
    }
   ],
   "source": [
    "imp['raw'][0]"
   ]
  },
  {
   "cell_type": "code",
   "execution_count": 12,
   "id": "124bbc18",
   "metadata": {},
   "outputs": [
    {
     "data": {
      "text/plain": [
       "label\n",
       "insulation    61964\n",
       "renewables    54587\n",
       "heating       13601\n",
       "lighting       9433\n",
       "glazing        5774\n",
       "Name: count, dtype: int64"
      ]
     },
     "execution_count": 12,
     "metadata": {},
     "output_type": "execute_result"
    }
   ],
   "source": [
    "imp[\"label\"].value_counts()"
   ]
  },
  {
   "cell_type": "code",
   "execution_count": 13,
   "id": "f230cdda",
   "metadata": {},
   "outputs": [
    {
     "name": "stdout",
     "output_type": "stream",
     "text": [
      "              precision    recall  f1-score   support\n",
      "\n",
      "     glazing       1.00      1.00      1.00      1155\n",
      "     heating       1.00      1.00      1.00      2720\n",
      "  insulation       1.00      1.00      1.00     12393\n",
      "    lighting       1.00      1.00      1.00      1887\n",
      "  renewables       1.00      1.00      1.00     10917\n",
      "\n",
      "    accuracy                           1.00     29072\n",
      "   macro avg       1.00      1.00      1.00     29072\n",
      "weighted avg       1.00      1.00      1.00     29072\n",
      "\n"
     ]
    },
    {
     "data": {
      "text/plain": [
       "<sklearn.metrics._plot.confusion_matrix.ConfusionMatrixDisplay at 0x710b043c0e90>"
      ]
     },
     "execution_count": 13,
     "metadata": {},
     "output_type": "execute_result"
    },
    {
     "data": {
      "image/png": "[encoded data removed]",
      "text/plain": [
       "<Figure size 640x480 with 2 Axes>"
      ]
     },
     "metadata": {},
     "output_type": "display_data"
    }
   ],
   "source": [
    "from sklearn.feature_extraction.text import TfidfVectorizer\n",
    "from sklearn.metrics import ConfusionMatrixDisplay\n",
    "\n",
    "X = imp[\"clean\"]\n",
    "y = imp[\"label\"]\n",
    "\n",
    "X_train, X_test, y_train, y_test = train_test_split(\n",
    "    X, y, test_size=0.2, stratify=y, random_state=42\n",
    ")\n",
    "\n",
    "clf = Pipeline([\n",
    "    (\"tfidf\", TfidfVectorizer(max_features=5000, ngram_range=(1,2))),\n",
    "    (\"lr\", LogisticRegression(max_iter=200, class_weight=\"balanced\"))\n",
    "])\n",
    "\n",
    "clf.fit(X_train, y_train)\n",
    "\n",
    "y_pred = clf.predict(X_test)\n",
    "print(classification_report(y_test, y_pred))\n",
    "\n",
    "ConfusionMatrixDisplay(confusion_matrix(y_test, y_pred), display_labels=clf.classes_).plot(cmap=\"Blues\")\n"
   ]
  },
  {
   "cell_type": "code",
   "execution_count": 6,
   "id": "78eb6d76",
   "metadata": {},
   "outputs": [
    {
     "data": {
      "text/plain": [
       "array(['heating'], dtype=object)"
      ]
     },
     "execution_count": 6,
     "metadata": {},
     "output_type": "execute_result"
    }
   ],
   "source": [
    "clf.predict([\"replace boiler with condensing boiler and add heating controls\"])"
   ]
  }
 ],
 "metadata": {
  "kernelspec": {
   "display_name": ".npl_env",
   "language": "python",
   "name": "python3"
  },
  "language_info": {
   "codemirror_mode": {
    "name": "ipython",
    "version": 3
   },
   "file_extension": ".py",
   "mimetype": "text/x-python",
   "name": "python",
   "nbconvert_exporter": "python",
   "pygments_lexer": "ipython3",
   "version": "3.12.3"
  }
 },
 "nbformat": 4,
 "nbformat_minor": 5
}
